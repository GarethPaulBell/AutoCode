{
 "cells": [
  {
   "cell_type": "code",
   "execution_count": 1,
   "metadata": {},
   "outputs": [],
   "source": [
    "import ell\n",
    "import subprocess\n",
    "import tempfile\n",
    "import os\n",
    "import datetime\n",
    "import uuid\n",
    "from typing import Callable, Dict, List, Optional\n",
    "from enum import Enum\n",
    "from pydantic import BaseModel, Field\n",
    "from colorama import Fore, Style, init\n",
    "from tabulate import tabulate\n",
    "import pickle\n",
    "init()"
   ]
  },
  {
   "cell_type": "code",
   "execution_count": 2,
   "metadata": {},
   "outputs": [],
   "source": [
    "# Enums for Test Status\n",
    "from enum import Enum"
   ]
  },
  {
   "cell_type": "markdown",
   "metadata": {},
   "source": []
  },
  {
   "cell_type": "markdown",
   "metadata": {},
   "source": []
  },
  {
   "cell_type": "code",
   "execution_count": null,
   "metadata": {},
   "outputs": [],
   "source": []
  },
  {
   "cell_type": "code",
   "execution_count": 3,
   "metadata": {},
   "outputs": [],
   "source": [
    "class TestStatusEnum(Enum):\n",
    "    PASSED = \"Passed\"\n",
    "    FAILED = \"Failed\"\n",
    "    PENDING = \"Pending\"\n",
    "    RUNNING = \"Running\""
   ]
  },
  {
   "cell_type": "code",
   "execution_count": 4,
   "metadata": {},
   "outputs": [],
   "source": [
    "class TestResult:\n",
    "    def __init__(self, test_id: str, function_id: str, actual_result: str, status: TestStatusEnum):\n",
    "        self.result_id = str(uuid.uuid4())\n",
    "        self.test_id = test_id\n",
    "        self.function_id = function_id\n",
    "        self.execution_date = datetime.datetime.now()\n",
    "        self.actual_result = actual_result\n",
    "        self.status = status\n",
    "\n",
    "    def __repr__(self):\n",
    "        return (f\"<TestResult {self.result_id}: Test {self.test_id} for Function {self.function_id} \"\n",
    "                f\"Status: {self.status.value}>\")"
   ]
  },
  {
   "cell_type": "code",
   "execution_count": 5,
   "metadata": {},
   "outputs": [],
   "source": [
    "class Modification:\n",
    "    def __init__(self, function_id: str, modifier: str, description: str):\n",
    "        self.modification_id = str(uuid.uuid4())\n",
    "        self.function_id = function_id\n",
    "        self.modifier = modifier\n",
    "        self.modification_date = datetime.datetime.now()\n",
    "        self.description = description\n",
    "\n",
    "    def __repr__(self):\n",
    "        return (f\"<Modification {self.modification_id}: Function {self.function_id} modified by \"\n",
    "                f\"{self.modifier} on {self.modification_date.isoformat()}>\")"
   ]
  },
  {
   "cell_type": "code",
   "execution_count": 7,
   "metadata": {},
   "outputs": [],
   "source": [
    "class UnitTest:\n",
    "    def __init__(self, function_id: str, name: str, description: str, test_case: str):\n",
    "        \"\"\"\n",
    "        Initialize a UnitTest instance.\n",
    "\n",
    "        :param function_id: The ID of the function being tested.\n",
    "        :param name: The name of the unit test.\n",
    "        :param description: A brief description of the unit test.\n",
    "        :param test_case: The Julia code for the test case as a string.\n",
    "        \"\"\"\n",
    "        self.test_id = str(uuid.uuid4())\n",
    "        self.function_id = function_id\n",
    "        self.name = name\n",
    "        self.description = description\n",
    "        self.test_case = test_case  # Julia test case code as a string\n",
    "\n",
    "    def run_test(self, function_code: str) -> TestResult:\n",
    "        \"\"\"\n",
    "        Run the unit test by executing the function and test case in Julia.\n",
    "\n",
    "        :param function_code: The Julia code of the function under test.\n",
    "        :return: An instance of TestResult containing the outcome.\n",
    "        \"\"\"\n",
    "        print(f\"Running Test '{self.name}' for Function ID {self.function_id}\")\n",
    "\n",
    "        # Combine the function code and test case into one Julia script\n",
    "        julia_script = f\"\"\"\n",
    "using Test  # Ensure Test module is imported\n",
    "\n",
    "{function_code}\n",
    "\n",
    "{self.test_case}\n",
    "\"\"\"\n",
    "        # Write the combined Julia script to a temporary file with UTF-8 encoding\n",
    "        with tempfile.NamedTemporaryFile(mode='w', suffix='.jl', delete=False, encoding='utf-8') as temp_file:\n",
    "            temp_file.write(julia_script)\n",
    "            temp_filename = temp_file.name\n",
    "            print(f\"Temporary Julia script saved to: {temp_filename}\")\n",
    "            if not os.path.exists(temp_filename):\n",
    "                raise FileNotFoundError(f\"Temporary file {temp_filename} was not created.\")\n",
    "\n",
    "        try:\n",
    "            # Execute the Julia script using subprocess\n",
    "            result = subprocess.run(\n",
    "                [\"julia\", temp_filename],\n",
    "                capture_output=True,\n",
    "                text=True\n",
    "            )\n",
    "\n",
    "            # Capture stdout and stderr\n",
    "            stdout = result.stdout.strip()\n",
    "            stderr = result.stderr.strip()\n",
    "\n",
    "            if result.returncode == 0:\n",
    "                # Test passed\n",
    "                status = TestStatusEnum.PASSED\n",
    "                actual_result = \"Test Passed.\"\n",
    "            else:\n",
    "                # Test failed, capture the error message\n",
    "                status = TestStatusEnum.FAILED\n",
    "                actual_result = stderr if stderr else \"Test Failed with unknown error.\"\n",
    "                print(f\"Test Failed: {actual_result}\")\n",
    "\n",
    "            return TestResult(\n",
    "                test_id=self.test_id,\n",
    "                function_id=self.function_id,\n",
    "                actual_result=actual_result,\n",
    "                status=status\n",
    "            )\n",
    "\n",
    "        except Exception as e:\n",
    "            # Handle any unexpected exceptions during test execution\n",
    "            print(f\"Exception during test execution: {e}\")\n",
    "            return TestResult(\n",
    "                test_id=self.test_id,\n",
    "                function_id=self.function_id,\n",
    "                actual_result=str(e),\n",
    "                status=TestStatusEnum.FAILED\n",
    "            )\n",
    "\n",
    "        finally:\n",
    "            # Clean up the temporary Julia script file\n",
    "            # os.remove(temp_filename)\n",
    "            print(f\"Temporary Julia script file {temp_filename} removed.\")\n",
    "\n",
    "    def __repr__(self):\n",
    "        return (f\"<UnitTest {self.test_id}: {self.name} for Function {self.function_id}>\")"
   ]
  },
  {
   "cell_type": "code",
   "execution_count": 8,
   "metadata": {},
   "outputs": [],
   "source": [
    "class Function:\n",
    "    def __init__(self, name: str, description: str, code_snippet: str):\n",
    "        self.function_id = str(uuid.uuid4())\n",
    "        self.name = name\n",
    "        self.description = description\n",
    "        self.code_snippet = code_snippet\n",
    "        self.creation_date = datetime.datetime.now()\n",
    "        self.last_modified_date = self.creation_date\n",
    "        self.unit_tests: List[UnitTest] = []\n",
    "\n",
    "    def add_unit_test(self, test: UnitTest):\n",
    "        self.unit_tests.append(test)\n",
    "        print(f\"Added UnitTest {test.test_id} to Function {self.function_id}\")\n",
    "\n",
    "    def modify_code(self, new_code_snippet: str):\n",
    "        self.code_snippet = new_code_snippet\n",
    "        self.last_modified_date = datetime.datetime.now()\n",
    "        print(f\"Function {self.function_id} code modified.\")\n",
    "\n",
    "    def __repr__(self):\n",
    "        return (f\"<Function {self.function_id}: {self.name}, \"\n",
    "                f\"Last Modified: {self.last_modified_date.isoformat()}>\")\n"
   ]
  },
  {
   "cell_type": "code",
   "execution_count": 9,
   "metadata": {},
   "outputs": [],
   "source": [
    "class CodeDatabase:\n",
    "    def __init__(self):\n",
    "        self.db_name = \"AutomatedDevDB\"\n",
    "        self.db_version = \"1.0\"\n",
    "        self.created_date = datetime.datetime.now()\n",
    "        self.last_modified_date = self.created_date\n",
    "        self.functions: Dict[str, Function] = {}\n",
    "        self.modifications: List[Modification] = []\n",
    "        self.test_results: List[TestResult] = []\n",
    "        self.persistence_file = r\"c:\\Users\\GGPC\\Documents\\GitHub\\AutoCode\\code_database.pkl\"\n",
    "        self.load_from_disk()\n",
    "\n",
    "    def save_to_disk(self):\n",
    "        try:\n",
    "            with open(self.persistence_file, \"wb\") as f:\n",
    "                pickle.dump({\n",
    "                    \"functions\": self.functions,\n",
    "                    \"modifications\": self.modifications,\n",
    "                    \"test_results\": self.test_results,\n",
    "                    \"last_modified_date\": self.last_modified_date,\n",
    "                    \"created_date\": self.created_date,\n",
    "                }, f)\n",
    "            print(\"Database saved to disk.\")\n",
    "        except Exception as e:\n",
    "            print(f\"Error saving database: {e}\")\n",
    "\n",
    "    def load_from_disk(self):\n",
    "        if os.path.exists(self.persistence_file):\n",
    "            try:\n",
    "                with open(self.persistence_file, \"rb\") as f:\n",
    "                    data = pickle.load(f)\n",
    "                    self.functions = data.get(\"functions\", {})\n",
    "                    self.modifications = data.get(\"modifications\", [])\n",
    "                    self.test_results = data.get(\"test_results\", [])\n",
    "                    self.last_modified_date = data.get(\"last_modified_date\", self.last_modified_date)\n",
    "                    self.created_date = data.get(\"created_date\", self.created_date)\n",
    "                print(\"Database loaded from disk.\")\n",
    "            except Exception as e:\n",
    "                print(f\"Error loading database: {e}\")\n",
    "\n",
    "    def add_function(self, name: str, description: str, code_snippet: str) -> Function:\n",
    "        func = Function(name, description, code_snippet)\n",
    "        self.functions[func.function_id] = func\n",
    "        self.last_modified_date = datetime.datetime.now()\n",
    "        print(f\"Added Function {func.function_id}: {name}\")\n",
    "        self.save_to_disk()\n",
    "        return func\n",
    "\n",
    "    def add_unit_test(self, function_id: str, name: str, description: str, test_case: Callable[[Callable], bool]) -> Optional[UnitTest]:\n",
    "        func = self.functions.get(function_id)\n",
    "        if not func:\n",
    "            print(f\"Function ID {function_id} not found.\")\n",
    "            return None\n",
    "        test = UnitTest(function_id, name, description, test_case)\n",
    "        func.add_unit_test(test)\n",
    "        self.last_modified_date = datetime.datetime.now()\n",
    "        print(f\"Added UnitTest {test.test_id} to Function {function_id}\")\n",
    "        self.save_to_disk()\n",
    "        return test\n",
    "\n",
    "    def execute_tests(self):\n",
    "        print(\"Executing all unit tests...\")\n",
    "        results = []\n",
    "        for func in self.functions.values():\n",
    "            for test in func.unit_tests:\n",
    "                result = test.run_test(func.code_snippet)\n",
    "                self.test_results.append(result)\n",
    "                results.append(result)\n",
    "                print(f\"Test Result: {result}\")\n",
    "        return results\n",
    "\n",
    "    def modify_function(self, function_id: str, modifier: str, description: str, new_code_snippet: str):\n",
    "        func = self.functions.get(function_id)\n",
    "        if not func:\n",
    "            print(f\"Function ID {function_id} not found.\")\n",
    "            return\n",
    "        func.modify_code(new_code_snippet)\n",
    "        modification = Modification(function_id, modifier, description)\n",
    "        self.modifications.append(modification)\n",
    "        self.last_modified_date = datetime.datetime.now()\n",
    "        print(f\"Logged Modification {modification.modification_id} for Function {function_id}\")\n",
    "        self.save_to_disk()\n",
    "    \n",
    "    def get_test(self, test_id: str) -> Optional[UnitTest]:\n",
    "        \"\"\"\n",
    "        Retrieve a unit test by its ID.\n",
    "        \n",
    "        Args:\n",
    "            test_id: The unique identifier of the test to retrieve\n",
    "            \n",
    "        Returns:\n",
    "            The UnitTest object if found, None otherwise\n",
    "        \"\"\"\n",
    "        for func in self.functions.values():\n",
    "            for test in func.unit_tests:\n",
    "                if test.test_id == test_id:\n",
    "                    return test\n",
    "        print(f\"Test ID {test_id} not found.\")\n",
    "        return None\n",
    "\n",
    "    def __repr__(self):\n",
    "        return (f\"<CodeDatabase: {self.db_name} v{self.db_version}, \"\n",
    "                f\"Created: {self.created_date.isoformat()}, \"\n",
    "                f\"Last Modified: {self.last_modified_date.isoformat()}, \"\n",
    "                f\"Functions: {len(self.functions)}>\")"
   ]
  },
  {
   "cell_type": "code",
   "execution_count": 10,
   "metadata": {},
   "outputs": [],
   "source": [
    "class JuliaCodePackage(BaseModel):\n",
    "    code: str = Field(description=\"The function.\")\n",
    "    tests: str = Field(description=\"A single test case for the function that uses @assert.\")\n",
    "    test_name: str = Field(description=\"A concise test name in snake_case.\")\n",
    "    test_description: str = Field(description=\"A concise test description.\")\n",
    "    input_types: str = Field(description=\"The input types for the function.\")\n",
    "    return_types: str = Field(description=\"The expected output types for the function.\")\n",
    "    short_description: str = Field(description=\"A short description of the function.\")\n",
    "    function_name: str = Field(description=\"The name of the function.\")"
   ]
  },
  {
   "cell_type": "code",
   "execution_count": 11,
   "metadata": {},
   "outputs": [],
   "source": [
    "model = \"gpt-4o\"\n",
    "# Step 1: Generate a Julia function based on a description\n",
    "@ell.complex(model=model, response_format=JuliaCodePackage)\n",
    "def generate_julia_function(description: str):\n",
    "    \"\"\"Generate a Julia function based on requirements.\"\"\"\n",
    "    prompt = f\"\"\"Create a Julia function with these specifications:\n",
    "\n",
    "TASK:\n",
    "{description}\n",
    "\n",
    "REQUIREMENTS:\n",
    "- Use pure Julia implementation\n",
    "- Avoid external dependencies\n",
    "- Function must be self-contained\n",
    "- Include type annotations where appropriate\n",
    "- Follow Julia style guide\n",
    "\n",
    "RESPONSE FORMAT:\n",
    "- Function definition with docstring\n",
    "- Example usage\n",
    "- Single test case demonstrating correctness\n",
    "\"\"\"\n",
    "    return prompt\n",
    "\n",
    "@ell.complex(model=model, response_format=JuliaCodePackage)\n",
    "def modify_julia_function(description: str, function_code: str):\n",
    "    \"\"\"You are a Julia programmer, and you need to modify a function based on the description. Maintain the existing function signature.\"\"\"\n",
    "    prompt = f\"Modify the BODY of the Julia function {function_code} based on the following description: {description}\"\n",
    "        \n",
    "    # The decorator is assumed to send this prompt to GPT-4 and return the generated code\n",
    "    return prompt\n",
    "\n",
    "# Step 2: Test the generated function\n",
    "@ell.simple(model=model)\n",
    "def write_test_case(function_name: str) -> str:\n",
    "    \"\"\"Write a test case for the function.\"\"\"\n",
    "    prompt = f\"Write a Julia test case to verify the `{function_name}` function\"\n",
    "    return prompt\n",
    "\n",
    "# Step 3: Evaluate the output of the function\n",
    "@ell.simple(model=model)\n",
    "def evaluate_output(expected_output: str, actual_output: str) -> str:\n",
    "    \"\"\"Evaluate whether the output matches the expectation.\"\"\"\n",
    "    prompt = f\"Does the actual output `{actual_output}` match the expected `{expected_output}`?\"\n",
    "    return prompt"
   ]
  },
  {
   "cell_type": "code",
   "execution_count": 12,
   "metadata": {},
   "outputs": [],
   "source": [
    "def pretty_print_function(code_db: CodeDatabase, function_id: str):\n",
    "    func = code_db.functions.get(function_id)\n",
    "    if not func:\n",
    "        print(f\"{Fore.RED}Function ID {function_id} not found.{Style.RESET_ALL}\")\n",
    "        return\n",
    "\n",
    "    print(f\"{Fore.CYAN}\\n\\nFunction ID: {func.function_id}{Style.RESET_ALL}\")\n",
    "    print(f\"{Fore.CYAN}Name: {func.name}{Style.RESET_ALL}\")\n",
    "    print(f\"{Fore.CYAN}Description: {func.description}{Style.RESET_ALL}\")\n",
    "    print(f\"{Fore.CYAN}Creation Date: {func.creation_date.isoformat()}{Style.RESET_ALL}\")\n",
    "    print(f\"{Fore.CYAN}Last Modified Date: {func.last_modified_date.isoformat()}{Style.RESET_ALL}\")\n",
    "    print(f\"{Fore.CYAN}\\nCode Snippet:\\n ```julia\\n {func.code_snippet}{Style.RESET_ALL}```\")\n",
    "\n",
    "    print(f\"{Fore.YELLOW}\\nUnit Tests:{Style.RESET_ALL}\")\n",
    "    for test in func.unit_tests:\n",
    "        print(f\"{Fore.GREEN}Test ID: {test.test_id}{Style.RESET_ALL}\")\n",
    "        print(f\"{Fore.GREEN}Name: {test.name}{Style.RESET_ALL}\")\n",
    "        print(f\"{Fore.GREEN}Description: {test.description}{Style.RESET_ALL}\")\n",
    "        print(f\"{Fore.GREEN}Test Case:\\n{test.test_case}{Style.RESET_ALL}\")\n",
    "        print()\n",
    "\n",
    "    print(f\"{Fore.YELLOW}Modifications:{Style.RESET_ALL}\")\n",
    "    for mod in code_db.modifications:\n",
    "        if mod.function_id == function_id:\n",
    "            print(f\"{Fore.MAGENTA}Modification ID: {mod.modification_id}{Style.RESET_ALL}\")\n",
    "            print(f\"{Fore.MAGENTA}Modifier: {mod.modifier}{Style.RESET_ALL}\")\n",
    "            print(f\"{Fore.MAGENTA}Description: {mod.description}{Style.RESET_ALL}\")\n",
    "            print(f\"{Fore.MAGENTA}Modification Date: {mod.modification_date.isoformat()}{Style.RESET_ALL}\")\n",
    "            print()\n",
    "\n",
    "    print(f\"{Fore.YELLOW}Test Results:{Style.RESET_ALL}\")\n",
    "    for result in code_db.test_results:\n",
    "        if result.function_id == function_id:\n",
    "            print(f\"{Fore.BLUE}Result ID: {result.result_id}{Style.RESET_ALL}\")\n",
    "            print(f\"{Fore.BLUE}Test ID: {result.test_id}{Style.RESET_ALL}\")\n",
    "            print(f\"{Fore.BLUE}Actual Result: {result.actual_result}{Style.RESET_ALL}\")\n",
    "            print(f\"{Fore.BLUE}Status: {result.status.value}{Style.RESET_ALL}\")\n",
    "            print(f\"{Fore.BLUE}Execution Date: {result.execution_date.isoformat()}{Style.RESET_ALL}\")\n",
    "            print()"
   ]
  },
  {
   "cell_type": "code",
   "execution_count": 13,
   "metadata": {},
   "outputs": [],
   "source": [
    "def pretty_print_functions_table(code_db: CodeDatabase):\n",
    "    # Collect data for the table\n",
    "    table_data = []\n",
    "    for func in code_db.functions.values():\n",
    "        last_test_result = get_last_test_result(code_db, func.function_id)\n",
    "        dot_color = get_dot_color(last_test_result)\n",
    "        table_data.append([func.function_id, func.name, func.description, dot_color])\n",
    "\n",
    "    # Define table headers\n",
    "    headers = [f\"{Fore.CYAN}Function ID{Style.RESET_ALL}\", f\"{Fore.CYAN}Name{Style.RESET_ALL}\", f\"{Fore.CYAN}Description{Style.RESET_ALL}\", f\"{Fore.CYAN}Status{Style.RESET_ALL}\"]\n",
    "\n",
    "    # Print the table\n",
    "    print(tabulate(table_data, headers=headers, tablefmt=\"grid\"))"
   ]
  },
  {
   "cell_type": "code",
   "execution_count": 14,
   "metadata": {},
   "outputs": [],
   "source": [
    "def get_last_test_result(code_db: CodeDatabase, function_id: str) -> str:\n",
    "    for result in code_db.test_results[::-1]:\n",
    "        if result.function_id == function_id:\n",
    "            return result.status.value\n",
    "    return \"\""
   ]
  },
  {
   "cell_type": "code",
   "execution_count": 15,
   "metadata": {},
   "outputs": [],
   "source": [
    "def get_dot_color(status: str) -> str:\n",
    "    if status == TestStatusEnum.PASSED.value:\n",
    "        return f\"{Fore.GREEN}✔{Style.RESET_ALL}\"\n",
    "    elif status == TestStatusEnum.FAILED.value:\n",
    "        return f\"{Fore.RED}✘{Style.RESET_ALL}\"\n",
    "    else:\n",
    "        return \"\""
   ]
  },
  {
   "cell_type": "code",
   "execution_count": 16,
   "metadata": {},
   "outputs": [
    {
     "name": "stdout",
     "output_type": "stream",
     "text": [
      "Database loaded from disk.\n",
      "<CodeDatabase: AutomatedDevDB v1.0, Created: 2025-03-16T11:13:01.044102, Last Modified: 2025-03-16T11:13:14.494973, Functions: 1>\n"
     ]
    }
   ],
   "source": [
    "code_db = CodeDatabase()\n",
    "print(code_db)\n",
    "\n",
    "    # Step 1: Generate a Julia function\n"
   ]
  },
  {
   "cell_type": "code",
   "execution_count": 17,
   "metadata": {},
   "outputs": [
    {
     "name": "stdout",
     "output_type": "stream",
     "text": [
      "Database file deleted: c:\\Users\\GGPC\\Documents\\GitHub\\AutoCode\\code_database.pkl\n",
      "Fresh database initialized\n"
     ]
    }
   ],
   "source": [
    "import os\n",
    "\n",
    "# Path to the persistence file\n",
    "persistence_file = r\"c:\\Users\\GGPC\\Documents\\GitHub\\AutoCode\\code_database.pkl\"\n",
    "\n",
    "# Check if file exists before attempting to delete\n",
    "if os.path.exists(persistence_file):\n",
    "    os.remove(persistence_file)\n",
    "    print(f\"Database file deleted: {persistence_file}\")\n",
    "else:\n",
    "    print(f\"No database file found at: {persistence_file}\")\n",
    "\n",
    "# Create a fresh database instance\n",
    "code_db = CodeDatabase()\n",
    "print(\"Fresh database initialized\")"
   ]
  },
  {
   "cell_type": "code",
   "execution_count": 18,
   "metadata": {},
   "outputs": [],
   "source": [
    "description = \"\"\"Create a function, symbolic_derivative, that computes the symbolic derivative of a given univariate polynomial function (e.g., f(x) = 3x^2 + 2x + 1). Return the derivative as a function that can be evaluated at any point.\n",
    "\n",
    "Challenge Areas:\n",
    "\n",
    "Manipulating polynomials symbolically.\n",
    "Translating mathematical rules into code.\n",
    "Returning functions dynamically. \"\"\"\n"
   ]
  },
  {
   "cell_type": "code",
   "execution_count": 19,
   "metadata": {},
   "outputs": [
    {
     "name": "stdout",
     "output_type": "stream",
     "text": [
      "Generating Julia function for: Create a function, symbolic_derivative, that computes the symbolic derivative of a given univariate polynomial function (e.g., f(x) = 3x^2 + 2x + 1). Return the derivative as a function that can be evaluated at any point.\n",
      "\n",
      "Challenge Areas:\n",
      "\n",
      "Manipulating polynomials symbolically.\n",
      "Translating mathematical rules into code.\n",
      "Returning functions dynamically. \n"
     ]
    }
   ],
   "source": [
    "print(f\"Generating Julia function for: {description}\")\n",
    "generated_code_message = generate_julia_function(description)\n",
    "generated_code = generated_code_message.parsed"
   ]
  },
  {
   "cell_type": "code",
   "execution_count": 20,
   "metadata": {},
   "outputs": [],
   "source": [
    "def format_code_block(code: str, language: str = \"\") -> str:\n",
    "    \"\"\"Format a code block with proper indentation and syntax highlighting.\"\"\"\n",
    "    return f\"{Fore.YELLOW}```{language}\\n{Style.RESET_ALL}{code}\\n{Fore.YELLOW}```{Style.RESET_ALL}\"\n",
    "\n"
   ]
  },
  {
   "cell_type": "code",
   "execution_count": 21,
   "metadata": {},
   "outputs": [
    {
     "data": {
      "text/plain": [
       "'\\x1b[33m```\\n\\x1b[0mcode=\\'\"\"\"\\\\n    symbolic_derivative(coefficients::Vector{Number}) -> Function\\\\n\\\\nCompute the symbolic derivative of a univariate polynomial given by its coeficients.\\\\n\\\\nArguments:\\\\n- `coefficients`: a vector of numbers representing the coefficients of the polynomial.\\\\n  The elements are in the order of decreasing powers, e.g., for 3x^2 + 2x + 1, input [3, 2, 1].\\\\n\\\\nReturns:\\\\n- A function that can be used to evaluate the derivative at any point.\\\\n\"\"\"\\\\nfunction symbolic_derivative(coefficients::Vector{Number})::Function\\\\n    # Compute the derivative coefficients \\\\n    n = length(coefficients) - 1\\\\n    derivative_coeffs = [coefficients[i] * (n - i + 1) for i in 1:n]\\\\n    \\\\n    # Generate a function to evaluate the derivative at a given point x\\\\n    derivative_function(x::Number) = sum(derivative_coeffs[i] * x^(n - i) for i in 1:n)\\\\n    \\\\n    return derivative_function\\\\nend\\\\n\\\\n# Example usage:\\\\n# Define the polynomial f(x) = 3x^2 + 2x + 1\\\\ncoeffs = [3, 2, 1]\\\\nderivative_func = symbolic_derivative(coeffs)\\\\n\\\\n# Evaluate the derivative at x = 4\\\\nresult = derivative_func(4)  # Should return 26, as f\\\\\\'(x) = 6x + 2\\\\nprintln(\"The derivative at x=4 is: $result\")\\\\n\\' tests=\"coeffs = [3, 2, 1]\\\\nderivative_func = symbolic_derivative(coeffs)\\\\n@assert derivative_func(4) == 26 # For f(x) = 3x^2 + 2x + 1, f\\'(x) = 6x + 2, thus f\\'(4) = 26\" test_name=\\'test_symbolic_derivative_at_specific_value\\' test_description=\\'Check that the symbolic_derivative function correctly computes the derivative of a polynomial and evaluates it at a specific point.\\' input_types=\\'Vector{Number}\\' return_types=\\'Function\\' short_description=\\'Compute and return the derivative of a polynomial as a function.\\' function_name=\\'symbolic_derivative\\'\\n\\x1b[33m```\\x1b[0m'"
      ]
     },
     "execution_count": 21,
     "metadata": {},
     "output_type": "execute_result"
    }
   ],
   "source": [
    "format_code_block(generated_code)"
   ]
  },
  {
   "cell_type": "code",
   "execution_count": 22,
   "metadata": {},
   "outputs": [],
   "source": [
    "generated_code = generated_code_message.parsed"
   ]
  },
  {
   "cell_type": "code",
   "execution_count": 23,
   "metadata": {},
   "outputs": [
    {
     "data": {
      "text/plain": [
       "JuliaCodePackage(code='\"\"\"\\n    symbolic_derivative(coefficients::Vector{Number}) -> Function\\n\\nCompute the symbolic derivative of a univariate polynomial given by its coeficients.\\n\\nArguments:\\n- `coefficients`: a vector of numbers representing the coefficients of the polynomial.\\n  The elements are in the order of decreasing powers, e.g., for 3x^2 + 2x + 1, input [3, 2, 1].\\n\\nReturns:\\n- A function that can be used to evaluate the derivative at any point.\\n\"\"\"\\nfunction symbolic_derivative(coefficients::Vector{Number})::Function\\n    # Compute the derivative coefficients \\n    n = length(coefficients) - 1\\n    derivative_coeffs = [coefficients[i] * (n - i + 1) for i in 1:n]\\n    \\n    # Generate a function to evaluate the derivative at a given point x\\n    derivative_function(x::Number) = sum(derivative_coeffs[i] * x^(n - i) for i in 1:n)\\n    \\n    return derivative_function\\nend\\n\\n# Example usage:\\n# Define the polynomial f(x) = 3x^2 + 2x + 1\\ncoeffs = [3, 2, 1]\\nderivative_func = symbolic_derivative(coeffs)\\n\\n# Evaluate the derivative at x = 4\\nresult = derivative_func(4)  # Should return 26, as f\\'(x) = 6x + 2\\nprintln(\"The derivative at x=4 is: $result\")\\n', tests=\"coeffs = [3, 2, 1]\\nderivative_func = symbolic_derivative(coeffs)\\n@assert derivative_func(4) == 26 # For f(x) = 3x^2 + 2x + 1, f'(x) = 6x + 2, thus f'(4) = 26\", test_name='test_symbolic_derivative_at_specific_value', test_description='Check that the symbolic_derivative function correctly computes the derivative of a polynomial and evaluates it at a specific point.', input_types='Vector{Number}', return_types='Function', short_description='Compute and return the derivative of a polynomial as a function.', function_name='symbolic_derivative')"
      ]
     },
     "execution_count": 23,
     "metadata": {},
     "output_type": "execute_result"
    }
   ],
   "source": [
    "generated_code"
   ]
  },
  {
   "cell_type": "code",
   "execution_count": 24,
   "metadata": {},
   "outputs": [
    {
     "name": "stdout",
     "output_type": "stream",
     "text": [
      "Added Function 6a8e01a5-a9a4-4ae9-b5af-fc15b6c3843e: symbolic_derivative\n",
      "Database saved to disk.\n"
     ]
    }
   ],
   "source": [
    "func = code_db.add_function(generated_code.function_name, generated_code.short_description, generated_code.code)"
   ]
  },
  {
   "cell_type": "code",
   "execution_count": 25,
   "metadata": {},
   "outputs": [
    {
     "name": "stdout",
     "output_type": "stream",
     "text": [
      "Added UnitTest 32032216-7b6f-4dab-a79b-7cbd87c86b59 to Function 6a8e01a5-a9a4-4ae9-b5af-fc15b6c3843e\n",
      "Added UnitTest 32032216-7b6f-4dab-a79b-7cbd87c86b59 to Function 6a8e01a5-a9a4-4ae9-b5af-fc15b6c3843e\n",
      "Database saved to disk.\n"
     ]
    },
    {
     "data": {
      "text/plain": [
       "<UnitTest 32032216-7b6f-4dab-a79b-7cbd87c86b59: test_symbolic_derivative_at_specific_value for Function 6a8e01a5-a9a4-4ae9-b5af-fc15b6c3843e>"
      ]
     },
     "execution_count": 25,
     "metadata": {},
     "output_type": "execute_result"
    }
   ],
   "source": [
    " # Step 3: Add unit tests for the function\n",
    "code_db.add_unit_test(func.function_id, generated_code.test_name, generated_code.test_description, generated_code.tests)"
   ]
  },
  {
   "cell_type": "code",
   "execution_count": 26,
   "metadata": {},
   "outputs": [
    {
     "name": "stdout",
     "output_type": "stream",
     "text": [
      "```julia\n",
      "\"\"\"\n",
      "    symbolic_derivative(coefficients::Vector{Number}) -> Function\n",
      "\n",
      "Compute the symbolic derivative of a univariate polynomial given by its coeficients.\n",
      "\n",
      "Arguments:\n",
      "- `coefficients`: a vector of numbers representing the coefficients of the polynomial.\n",
      "  The elements are in the order of decreasing powers, e.g., for 3x^2 + 2x + 1, input [3, 2, 1].\n",
      "\n",
      "Returns:\n",
      "- A function that can be used to evaluate the derivative at any point.\n",
      "\"\"\"\n",
      "function symbolic_derivative(coefficients::Vector{Number})::Function\n",
      "    # Compute the derivative coefficients \n",
      "    n = length(coefficients) - 1\n",
      "    derivative_coeffs = [coefficients[i] * (n - i + 1) for i in 1:n]\n",
      "    \n",
      "    # Generate a function to evaluate the derivative at a given point x\n",
      "    derivative_function(x::Number) = sum(derivative_coeffs[i] * x^(n - i) for i in 1:n)\n",
      "    \n",
      "    return derivative_function\n",
      "end\n",
      "\n",
      "# Example usage:\n",
      "# Define the polynomial f(x) = 3x^2 + 2x + 1\n",
      "coeffs = [3, 2, 1]\n",
      "derivative_func = symbolic_derivative(coeffs)\n",
      "\n",
      "# Evaluate the derivative at x = 4\n",
      "result = derivative_func(4)  # Should return 26, as f'(x) = 6x + 2\n",
      "println(\"The derivative at x=4 is: $result\")\n",
      "\n",
      "```\n"
     ]
    }
   ],
   "source": [
    "formatted_code = format_code_block(generated_code.code, language=\"julia\")\n",
    "print(formatted_code)"
   ]
  },
  {
   "cell_type": "code",
   "execution_count": 27,
   "metadata": {},
   "outputs": [
    {
     "name": "stdout",
     "output_type": "stream",
     "text": [
      "\n",
      "Attempt 1 of 10\n",
      "Executing Tests...\n",
      "Executing all unit tests...\n",
      "Running Test 'test_symbolic_derivative_at_specific_value' for Function ID 6a8e01a5-a9a4-4ae9-b5af-fc15b6c3843e\n",
      "Temporary Julia script saved to: C:\\Users\\GGPC\\AppData\\Local\\Temp\\tmp9to9nbvk.jl\n",
      "Test Failed: ERROR: LoadError: MethodError: no method matching symbolic_derivative(::Vector{Int64})\n",
      "The function `symbolic_derivative` exists, but no method is defined for this combination of argument types.\n",
      "\n",
      "Closest candidates are:\n",
      "  symbolic_derivative(!Matched::Vector{Number})\n",
      "   @ Main C:\\Users\\GGPC\\AppData\\Local\\Temp\\tmp9to9nbvk.jl:16\n",
      "\n",
      "Stacktrace:\n",
      " [1] top-level scope\n",
      "   @ C:\\Users\\GGPC\\AppData\\Local\\Temp\\tmp9to9nbvk.jl:30\n",
      "in expression starting at C:\\Users\\GGPC\\AppData\\Local\\Temp\\tmp9to9nbvk.jl:30\n",
      "Temporary Julia script file C:\\Users\\GGPC\\AppData\\Local\\Temp\\tmp9to9nbvk.jl removed.\n",
      "Test Result: <TestResult 88ca2ff0-305a-49a9-b1d3-238397750454: Test 32032216-7b6f-4dab-a79b-7cbd87c86b59 for Function 6a8e01a5-a9a4-4ae9-b5af-fc15b6c3843e Status: Failed>\n",
      "Failed tests: 1\n",
      "Test 'test_symbolic_derivative_at_specific_value' failed: ERROR: LoadError: MethodError: no method matching symbolic_derivative(::Vector{Int64})\n",
      "The function `symbolic_derivative` exists, but no method is defined for this combination of argument types.\n",
      "\n",
      "Closest candidates are:\n",
      "  symbolic_derivative(!Matched::Vector{Number})\n",
      "   @ Main C:\\Users\\GGPC\\AppData\\Local\\Temp\\tmp9to9nbvk.jl:16\n",
      "\n",
      "Stacktrace:\n",
      " [1] top-level scope\n",
      "   @ C:\\Users\\GGPC\\AppData\\Local\\Temp\\tmp9to9nbvk.jl:30\n",
      "in expression starting at C:\\Users\\GGPC\\AppData\\Local\\Temp\\tmp9to9nbvk.jl:30\n",
      "\n",
      "Requesting fix: Fix the following Julia function:\n",
      "\n",
      "FUNCTION DEFINITION:\n",
      "\"\"\"\n",
      "    symbolic_derivative(coefficients::Vector{Number}) -> Function\n",
      "\n",
      "Compute the symbolic derivative of a univariate polynomial given by its coeficients.\n",
      "\n",
      "Arguments:\n",
      "- `coefficients`: a vector of numbers representing the coefficients of the polynomial.\n",
      "  The elements are in the order of decreasing powers, e.g., for 3x^2 + 2x + 1, input [3, 2, 1].\n",
      "\n",
      "Returns:\n",
      "- A function that can be used to evaluate the derivative at any point.\n",
      "\"\"\"\n",
      "function symbolic_derivative(coefficients::Vector{Number})::Function\n",
      "    # Compute the derivative coefficients \n",
      "    n = length(coefficients) - 1\n",
      "    derivative_coeffs = [coefficients[i] * (n - i + 1) for i in 1:n]\n",
      "    \n",
      "    # Generate a function to evaluate the derivative at a given point x\n",
      "    derivative_function(x::Number) = sum(derivative_coeffs[i] * x^(n - i) for i in 1:n)\n",
      "    \n",
      "    return derivative_function\n",
      "end\n",
      "\n",
      "# Example usage:\n",
      "# Define the polynomial f(x) = 3x^2 + 2x + 1\n",
      "coeffs = [3, 2, 1]\n",
      "derivative_func = symbolic_derivative(coeffs)\n",
      "\n",
      "# Evaluate the derivative at x = 4\n",
      "result = derivative_func(4)  # Should return 26, as f'(x) = 6x + 2\n",
      "println(\"The derivative at x=4 is: $result\")\n",
      "\n",
      "\n",
      "TEST FAILURES:\n",
      "TEST: test_symbolic_derivative_at_specific_value\n",
      "DESCRIPTION: Check that the symbolic_derivative function correctly computes the derivative of a polynomial and evaluates it at a specific point.\n",
      "ERROR: ERROR: LoadError: MethodError: no method matching symbolic_derivative(::Vector{Int64})\n",
      "The function `symbolic_derivative` exists, but no method is defined for this combination of argument types.\n",
      "\n",
      "Closest candidates are:\n",
      "  symbolic_derivative(!Matched::Vector{Number})\n",
      "   @ Main C:\\Users\\GGPC\\AppData\\Local\\Temp\\tmp9to9nbvk.jl:16\n",
      "\n",
      "Stacktrace:\n",
      " [1] top-level scope\n",
      "   @ C:\\Users\\GGPC\\AppData\\Local\\Temp\\tmp9to9nbvk.jl:30\n",
      "in expression starting at C:\\Users\\GGPC\\AppData\\Local\\Temp\\tmp9to9nbvk.jl:30\n",
      "\n",
      "REQUIREMENTS:\n",
      "- Make the function pass all the failing tests\n",
      "- Preserve the function name, modify the signature if necessary\n",
      "- Use only built-in Julia libraries\n",
      "\n",
      "Function 6a8e01a5-a9a4-4ae9-b5af-fc15b6c3843e code modified.\n",
      "Logged Modification 5c5d5ed7-8c2d-45cd-835b-cbdb78cd1024 for Function 6a8e01a5-a9a4-4ae9-b5af-fc15b6c3843e\n",
      "Database saved to disk.\n",
      "\n",
      "Attempt 2 of 10\n",
      "Executing Tests...\n",
      "Executing all unit tests...\n",
      "Running Test 'test_symbolic_derivative_at_specific_value' for Function ID 6a8e01a5-a9a4-4ae9-b5af-fc15b6c3843e\n",
      "Temporary Julia script saved to: C:\\Users\\GGPC\\AppData\\Local\\Temp\\tmposxnqswj.jl\n",
      "Temporary Julia script file C:\\Users\\GGPC\\AppData\\Local\\Temp\\tmposxnqswj.jl removed.\n",
      "Test Result: <TestResult 17aefe7a-f650-49f6-bdf9-75287d019fc2: Test 32032216-7b6f-4dab-a79b-7cbd87c86b59 for Function 6a8e01a5-a9a4-4ae9-b5af-fc15b6c3843e Status: Passed>\n",
      "All tests passed!\n",
      "\n",
      "Fixed in 2 attempts\n"
     ]
    }
   ],
   "source": [
    "max_attempts = 10\n",
    "attempt = 0\n",
    "while attempt < max_attempts:\n",
    "    print(f\"\\nAttempt {attempt + 1} of {max_attempts}\")\n",
    "    \n",
    "    # Execute tests\n",
    "    print(\"Executing Tests...\")\n",
    "    test_results = code_db.execute_tests()\n",
    "    \n",
    "    # Check if any tests failed\n",
    "    failed_tests = [r for r in test_results if r.status == TestStatusEnum.FAILED]\n",
    "    \n",
    "    if not failed_tests:\n",
    "        print(\"All tests passed!\")\n",
    "        break\n",
    "        \n",
    "    print(f\"Failed tests: {len(failed_tests)}\")\n",
    "    \n",
    "    # Gather detailed test information\n",
    "    test_details = []\n",
    "    for result in failed_tests:\n",
    "        # Get the actual test object\n",
    "        test = code_db.get_test(result.test_id)\n",
    "        if test:\n",
    "            # Extract any available information from the test and result\n",
    "            test_details.append({\n",
    "                \"test_id\": test.test_id,\n",
    "                \"test_name\": test.name,\n",
    "                \"test_description\": test.description,\n",
    "                \"function_id\": test.function_id,\n",
    "                \"error_message\": result.actual_result,\n",
    "                \"status\": result.status\n",
    "            })\n",
    "            print(f\"Test '{test.name}' failed: {result.actual_result}\")\n",
    "    \n",
    "    # Format test context with available information\n",
    "    test_context = \"\\n\\n\".join([\n",
    "        f\"TEST: {t['test_name']}\\n\" +\n",
    "        f\"DESCRIPTION: {t['test_description']}\\n\" +\n",
    "        f\"ERROR: {t['error_message']}\"\n",
    "        for t in test_details\n",
    "    ])\n",
    "    \n",
    "    # Extract the specific test functions if possible to provide context\n",
    "    # This is a placeholder - you'll need to implement how to access the actual test code\n",
    "    # Maybe add a method to extract the test function or use introspection\n",
    "    \n",
    "    fix_description = f\"\"\"Fix the following Julia function:\n",
    "\n",
    "FUNCTION DEFINITION:\n",
    "{func.code_snippet}\n",
    "\n",
    "TEST FAILURES:\n",
    "{test_context}\n",
    "\n",
    "REQUIREMENTS:\n",
    "- Make the function pass all the failing tests\n",
    "- Preserve the function name, modify the signature if necessary\n",
    "- Use only built-in Julia libraries\n",
    "\"\"\"\n",
    "    \n",
    "    print(f\"\\nRequesting fix: {fix_description}\")\n",
    "    fixed_code_message = modify_julia_function(fix_description, func.code_snippet)\n",
    "    fixed_code = fixed_code_message.parsed.code\n",
    "    \n",
    "    # Update function with fix\n",
    "    code_db.modify_function(func.function_id, \"AI\", f\"Fix attempt {attempt + 1}\", fixed_code)\n",
    "    \n",
    "    attempt += 1\n",
    "\n",
    "if attempt == max_attempts:\n",
    "    print(\"\\nMaximum fix attempts reached without success\")\n",
    "else:\n",
    "    print(f\"\\nFixed in {attempt + 1} attempts\")"
   ]
  },
  {
   "cell_type": "code",
   "execution_count": 30,
   "metadata": {},
   "outputs": [
    {
     "name": "stdout",
     "output_type": "stream",
     "text": [
      "function symbolic_derivative(coefficients::Vector{<:Number})::Function\n",
      "    # Compute the derivative coefficients \n",
      "    n = length(coefficients) - 1\n",
      "    derivative_coeffs = [coefficients[i] * (n - i + 1) for i in 1:n]\n",
      "    \n",
      "    # Generate a function to evaluate the derivative at a given point x\n",
      "    derivative_function(x::Number) = sum(derivative_coeffs[i] * x^(n - i) for i in 1:n)\n",
      "    \n",
      "    return derivative_function\n",
      "end\n"
     ]
    }
   ],
   "source": [
    "formatted_code = format_code_block(generated_code.code, language=\"julia\")\n",
    "print(fixed_code)"
   ]
  },
  {
   "cell_type": "code",
   "execution_count": 31,
   "metadata": {},
   "outputs": [
    {
     "data": {
      "text/plain": [
       "[{'test_id': '32032216-7b6f-4dab-a79b-7cbd87c86b59',\n",
       "  'test_name': 'test_symbolic_derivative_at_specific_value',\n",
       "  'test_description': 'Check that the symbolic_derivative function correctly computes the derivative of a polynomial and evaluates it at a specific point.',\n",
       "  'function_id': '6a8e01a5-a9a4-4ae9-b5af-fc15b6c3843e',\n",
       "  'error_message': 'ERROR: LoadError: MethodError: no method matching symbolic_derivative(::Vector{Int64})\\nThe function `symbolic_derivative` exists, but no method is defined for this combination of argument types.\\n\\nClosest candidates are:\\n  symbolic_derivative(!Matched::Vector{Number})\\n   @ Main C:\\\\Users\\\\GGPC\\\\AppData\\\\Local\\\\Temp\\\\tmp9to9nbvk.jl:16\\n\\nStacktrace:\\n [1] top-level scope\\n   @ C:\\\\Users\\\\GGPC\\\\AppData\\\\Local\\\\Temp\\\\tmp9to9nbvk.jl:30\\nin expression starting at C:\\\\Users\\\\GGPC\\\\AppData\\\\Local\\\\Temp\\\\tmp9to9nbvk.jl:30',\n",
       "  'status': <TestStatusEnum.FAILED: 'Failed'>}]"
      ]
     },
     "execution_count": 31,
     "metadata": {},
     "output_type": "execute_result"
    }
   ],
   "source": [
    "test_details"
   ]
  },
  {
   "cell_type": "code",
   "execution_count": null,
   "metadata": {},
   "outputs": [],
   "source": []
  }
 ],
 "metadata": {
  "kernelspec": {
   "display_name": "Python 3",
   "language": "python",
   "name": "python3"
  },
  "language_info": {
   "codemirror_mode": {
    "name": "ipython",
    "version": 3
   },
   "file_extension": ".py",
   "mimetype": "text/x-python",
   "name": "python",
   "nbconvert_exporter": "python",
   "pygments_lexer": "ipython3",
   "version": "3.11.0"
  }
 },
 "nbformat": 4,
 "nbformat_minor": 2
}
