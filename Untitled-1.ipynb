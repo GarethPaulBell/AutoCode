{
 "cells": [
  {
   "cell_type": "code",
   "execution_count": 1,
   "metadata": {},
   "outputs": [],
   "source": [
    "import ell\n",
    "import subprocess\n",
    "import tempfile\n",
    "import os\n",
    "import datetime\n",
    "import uuid\n",
    "from typing import Callable, Dict, List, Optional\n",
    "from enum import Enum\n",
    "from pydantic import BaseModel, Field\n",
    "from colorama import Fore, Style, init\n",
    "from tabulate import tabulate\n",
    "init()"
   ]
  },
  {
   "cell_type": "code",
   "execution_count": 2,
   "metadata": {},
   "outputs": [],
   "source": [
    "# Enums for Test Status\n",
    "from enum import Enum"
   ]
  },
  {
   "cell_type": "code",
   "execution_count": 3,
   "metadata": {},
   "outputs": [],
   "source": [
    "class TestStatusEnum(Enum):\n",
    "    PASSED = \"Passed\"\n",
    "    FAILED = \"Failed\"\n",
    "    PENDING = \"Pending\"\n",
    "    RUNNING = \"Running\""
   ]
  },
  {
   "cell_type": "code",
   "execution_count": 5,
   "metadata": {},
   "outputs": [],
   "source": [
    "class TestResult:\n",
    "    def __init__(self, test_id: str, function_id: str, actual_result: str, status: TestStatusEnum):\n",
    "        self.result_id = str(uuid.uuid4())\n",
    "        self.test_id = test_id\n",
    "        self.function_id = function_id\n",
    "        self.execution_date = datetime.datetime.now()\n",
    "        self.actual_result = actual_result\n",
    "        self.status = status\n",
    "\n",
    "    def __repr__(self):\n",
    "        return (f\"<TestResult {self.result_id}: Test {self.test_id} for Function {self.function_id} \"\n",
    "                f\"Status: {self.status.value}>\")"
   ]
  },
  {
   "cell_type": "code",
   "execution_count": 6,
   "metadata": {},
   "outputs": [],
   "source": [
    "class Modification:\n",
    "    def __init__(self, function_id: str, modifier: str, description: str):\n",
    "        self.modification_id = str(uuid.uuid4())\n",
    "        self.function_id = function_id\n",
    "        self.modifier = modifier\n",
    "        self.modification_date = datetime.datetime.now()\n",
    "        self.description = description\n",
    "\n",
    "    def __repr__(self):\n",
    "        return (f\"<Modification {self.modification_id}: Function {self.function_id} modified by \"\n",
    "                f\"{self.modifier} on {self.modification_date.isoformat()}>\")"
   ]
  },
  {
   "cell_type": "code",
   "execution_count": 8,
   "metadata": {},
   "outputs": [],
   "source": [
    "class UnitTest:\n",
    "    def __init__(self, function_id: str, name: str, description: str, test_case: str):\n",
    "        \"\"\"\n",
    "        Initialize a UnitTest instance.\n",
    "\n",
    "        :param function_id: The ID of the function being tested.\n",
    "        :param name: The name of the unit test.\n",
    "        :param description: A brief description of the unit test.\n",
    "        :param test_case: The Julia code for the test case as a string.\n",
    "        \"\"\"\n",
    "        self.test_id = str(uuid.uuid4())\n",
    "        self.function_id = function_id\n",
    "        self.name = name\n",
    "        self.description = description\n",
    "        self.test_case = test_case  # Julia test case code as a string\n",
    "\n",
    "    def run_test(self, function_code: str) -> TestResult:\n",
    "        \"\"\"\n",
    "        Run the unit test by executing the function and test case in Julia.\n",
    "\n",
    "        :param function_code: The Julia code of the function under test.\n",
    "        :return: An instance of TestResult containing the outcome.\n",
    "        \"\"\"\n",
    "        print(f\"Running Test '{self.name}' for Function ID {self.function_id}\")\n",
    "\n",
    "        # Combine the function code and test case into one Julia script\n",
    "        julia_script = f\"\"\"\n",
    "{function_code}\n",
    "\n",
    "{self.test_case}\n",
    "\"\"\"\n",
    "        # Write the combined Julia script to a temporary file\n",
    "        with tempfile.NamedTemporaryFile(mode='w', suffix='.jl', delete=False) as temp_file:\n",
    "            temp_file.write(julia_script)\n",
    "            temp_filename = temp_file.name\n",
    "\n",
    "        try:\n",
    "            # Execute the Julia script using subprocess\n",
    "            result = subprocess.run(\n",
    "                [\"julia\", temp_filename],\n",
    "                capture_output=True,\n",
    "                text=True\n",
    "            )\n",
    "\n",
    "            # Capture stdout and stderr\n",
    "            stdout = result.stdout.strip()\n",
    "            stderr = result.stderr.strip()\n",
    "\n",
    "            if result.returncode == 0:\n",
    "                # Test passed\n",
    "                status = TestStatusEnum.PASSED\n",
    "                actual_result = \"Test Passed.\"\n",
    "            else:\n",
    "                # Test failed, capture the error message\n",
    "                status = TestStatusEnum.FAILED\n",
    "                actual_result = stderr if stderr else \"Test Failed with unknown error.\"\n",
    "                print(f\"Test Failed: {actual_result}\")\n",
    "\n",
    "            return TestResult(\n",
    "                test_id=self.test_id,\n",
    "                function_id=self.function_id,\n",
    "                actual_result=actual_result,\n",
    "                status=status\n",
    "            )\n",
    "\n",
    "        except Exception as e:\n",
    "            # Handle any unexpected exceptions during test execution\n",
    "            print(f\"Exception during test execution: {e}\")\n",
    "            return TestResult(\n",
    "                test_id=self.test_id,\n",
    "                function_id=self.function_id,\n",
    "                actual_result=str(e),\n",
    "                status=TestStatusEnum.FAILED\n",
    "            )\n",
    "\n",
    "        finally:\n",
    "            # Clean up the temporary Julia script file\n",
    "            os.remove(temp_filename)\n",
    "\n",
    "    def __repr__(self):\n",
    "        return (f\"<UnitTest {self.test_id}: {self.name} for Function {self.function_id}>\")"
   ]
  },
  {
   "cell_type": "code",
   "execution_count": 11,
   "metadata": {},
   "outputs": [],
   "source": [
    "class Function:\n",
    "    def __init__(self, name: str, description: str, code_snippet: str):\n",
    "        self.function_id = str(uuid.uuid4())\n",
    "        self.name = name\n",
    "        self.description = description\n",
    "        self.code_snippet = code_snippet\n",
    "        self.creation_date = datetime.datetime.now()\n",
    "        self.last_modified_date = self.creation_date\n",
    "        self.unit_tests: List[UnitTest] = []\n",
    "\n",
    "    def add_unit_test(self, test: UnitTest):\n",
    "        self.unit_tests.append(test)\n",
    "        print(f\"Added UnitTest {test.test_id} to Function {self.function_id}\")\n",
    "\n",
    "    def modify_code(self, new_code_snippet: str):\n",
    "        self.code_snippet = new_code_snippet\n",
    "        self.last_modified_date = datetime.datetime.now()\n",
    "        print(f\"Function {self.function_id} code modified.\")\n",
    "\n",
    "    def __repr__(self):\n",
    "        return (f\"<Function {self.function_id}: {self.name}, \"\n",
    "                f\"Last Modified: {self.last_modified_date.isoformat()}>\")\n"
   ]
  },
  {
   "cell_type": "code",
   "execution_count": 12,
   "metadata": {},
   "outputs": [],
   "source": [
    "class CodeDatabase:\n",
    "    def __init__(self):\n",
    "        self.db_name = \"AutomatedDevDB\"\n",
    "        self.db_version = \"1.0\"\n",
    "        self.created_date = datetime.datetime.now()\n",
    "        self.last_modified_date = self.created_date\n",
    "        self.functions: Dict[str, Function] = {}\n",
    "        self.modifications: List[Modification] = []\n",
    "        self.test_results: List[TestResult] = []\n",
    "\n",
    "    def add_function(self, name: str, description: str, code_snippet: str) -> Function:\n",
    "        func = Function(name, description, code_snippet)\n",
    "        self.functions[func.function_id] = func\n",
    "        self.last_modified_date = datetime.datetime.now()\n",
    "        print(f\"Added Function {func.function_id}: {name}\")\n",
    "        return func\n",
    "\n",
    "    def add_unit_test(self, function_id: str, name: str, description: str, test_case: Callable[[Callable], bool]) -> Optional[UnitTest]:\n",
    "        func = self.functions.get(function_id)\n",
    "        if not func:\n",
    "            print(f\"Function ID {function_id} not found.\")\n",
    "            return None\n",
    "        test = UnitTest(function_id, name, description, test_case)\n",
    "        func.add_unit_test(test)\n",
    "        self.last_modified_date = datetime.datetime.now()\n",
    "        print(f\"Added UnitTest {test.test_id} to Function {function_id}\")\n",
    "        return test\n",
    "\n",
    "    def execute_tests(self):\n",
    "        print(\"Executing all unit tests...\")\n",
    "        results = []\n",
    "        for func in self.functions.values():\n",
    "            for test in func.unit_tests:\n",
    "                result = test.run_test(func.code_snippet)\n",
    "                self.test_results.append(result)\n",
    "                results.append(result)\n",
    "                print(f\"Test Result: {result}\")\n",
    "        return results\n",
    "\n",
    "    def modify_function(self, function_id: str, modifier: str, description: str, new_code_snippet: str):\n",
    "        func = self.functions.get(function_id)\n",
    "        if not func:\n",
    "            print(f\"Function ID {function_id} not found.\")\n",
    "            return\n",
    "        func.modify_code(new_code_snippet)\n",
    "        modification = Modification(function_id, modifier, description)\n",
    "        self.modifications.append(modification)\n",
    "        self.last_modified_date = datetime.datetime.now()\n",
    "        print(f\"Logged Modification {modification.modification_id} for Function {function_id}\")\n",
    "\n",
    "    def __repr__(self):\n",
    "        return (f\"<CodeDatabase: {self.db_name} v{self.db_version}, \"\n",
    "                f\"Created: {self.created_date.isoformat()}, \"\n",
    "                f\"Last Modified: {self.last_modified_date.isoformat()}, \"\n",
    "                f\"Functions: {len(self.functions)}>\")"
   ]
  },
  {
   "cell_type": "code",
   "execution_count": 15,
   "metadata": {},
   "outputs": [],
   "source": [
    "class JuliaCodePackage(BaseModel):\n",
    "    code: str = Field(description=\"The function.\")\n",
    "    tests: str = Field(description=\"A single test case for the function that uses @assert.\")\n",
    "    test_name: str = Field(description=\"A concise test name in snake_case.\")\n",
    "    test_description: str = Field(description=\"A concise test description.\")\n",
    "    input_types: str = Field(description=\"The input types for the function.\")\n",
    "    return_types: str = Field(description=\"The expected output types for the function.\")\n",
    "    short_description: str = Field(description=\"A short description of the function.\")\n",
    "    function_name: str = Field(description=\"The name of the function.\")"
   ]
  },
  {
   "cell_type": "code",
   "execution_count": 16,
   "metadata": {},
   "outputs": [],
   "source": [
    "# Step 1: Generate a Julia function based on a description\n",
    "@ell.complex(model=\"gpt-4o\", response_format=JuliaCodePackage)\n",
    "def generate_julia_function(description: str):\n",
    "    \"\"\"You are a Julia programmer, and you need to generate a function based on a description and a SINGLE test case.\"\"\"\n",
    "    prompt = f\"Write a Julia function to {description}\"\n",
    "    # The decorator is assumed to send this prompt to GPT-4 and return the generated code\n",
    "    return prompt\n",
    "\n",
    "@ell.complex(model=\"gpt-4o\", response_format=JuliaCodePackage)\n",
    "def modify_julia_function(description: str, function_code: str):\n",
    "    \"\"\"You are a Julia programmer, and you need to modify a function based on the description. Maintain the existing function signature.\"\"\"\n",
    "    prompt = f\"Modify the BODY of the Julia function {function_code} based on the following description: {description}\"\n",
    "        \n",
    "    # The decorator is assumed to send this prompt to GPT-4 and return the generated code\n",
    "    return prompt\n",
    "\n",
    "# Step 2: Test the generated function\n",
    "@ell.simple(model=\"gpt-4o\")\n",
    "def write_test_case(function_name: str) -> str:\n",
    "    \"\"\"Write a test case for the function.\"\"\"\n",
    "    prompt = f\"Write a Julia test case to verify the `{function_name}` function\"\n",
    "    return prompt\n",
    "\n",
    "# Step 3: Evaluate the output of the function\n",
    "@ell.simple(model=\"gpt-4o\")\n",
    "def evaluate_output(expected_output: str, actual_output: str) -> str:\n",
    "    \"\"\"Evaluate whether the output matches the expectation.\"\"\"\n",
    "    prompt = f\"Does the actual output `{actual_output}` match the expected `{expected_output}`?\"\n",
    "    return prompt"
   ]
  },
  {
   "cell_type": "code",
   "execution_count": 17,
   "metadata": {},
   "outputs": [],
   "source": [
    "def pretty_print_function(code_db: CodeDatabase, function_id: str):\n",
    "    func = code_db.functions.get(function_id)\n",
    "    if not func:\n",
    "        print(f\"{Fore.RED}Function ID {function_id} not found.{Style.RESET_ALL}\")\n",
    "        return\n",
    "\n",
    "    print(f\"{Fore.CYAN}\\n\\nFunction ID: {func.function_id}{Style.RESET_ALL}\")\n",
    "    print(f\"{Fore.CYAN}Name: {func.name}{Style.RESET_ALL}\")\n",
    "    print(f\"{Fore.CYAN}Description: {func.description}{Style.RESET_ALL}\")\n",
    "    print(f\"{Fore.CYAN}Creation Date: {func.creation_date.isoformat()}{Style.RESET_ALL}\")\n",
    "    print(f\"{Fore.CYAN}Last Modified Date: {func.last_modified_date.isoformat()}{Style.RESET_ALL}\")\n",
    "    print(f\"{Fore.CYAN}\\nCode Snippet:\\n ```julia\\n {func.code_snippet}{Style.RESET_ALL}```\")\n",
    "\n",
    "    print(f\"{Fore.YELLOW}\\nUnit Tests:{Style.RESET_ALL}\")\n",
    "    for test in func.unit_tests:\n",
    "        print(f\"{Fore.GREEN}Test ID: {test.test_id}{Style.RESET_ALL}\")\n",
    "        print(f\"{Fore.GREEN}Name: {test.name}{Style.RESET_ALL}\")\n",
    "        print(f\"{Fore.GREEN}Description: {test.description}{Style.RESET_ALL}\")\n",
    "        print(f\"{Fore.GREEN}Test Case:\\n{test.test_case}{Style.RESET_ALL}\")\n",
    "        print()\n",
    "\n",
    "    print(f\"{Fore.YELLOW}Modifications:{Style.RESET_ALL}\")\n",
    "    for mod in code_db.modifications:\n",
    "        if mod.function_id == function_id:\n",
    "            print(f\"{Fore.MAGENTA}Modification ID: {mod.modification_id}{Style.RESET_ALL}\")\n",
    "            print(f\"{Fore.MAGENTA}Modifier: {mod.modifier}{Style.RESET_ALL}\")\n",
    "            print(f\"{Fore.MAGENTA}Description: {mod.description}{Style.RESET_ALL}\")\n",
    "            print(f\"{Fore.MAGENTA}Modification Date: {mod.modification_date.isoformat()}{Style.RESET_ALL}\")\n",
    "            print()\n",
    "\n",
    "    print(f\"{Fore.YELLOW}Test Results:{Style.RESET_ALL}\")\n",
    "    for result in code_db.test_results:\n",
    "        if result.function_id == function_id:\n",
    "            print(f\"{Fore.BLUE}Result ID: {result.result_id}{Style.RESET_ALL}\")\n",
    "            print(f\"{Fore.BLUE}Test ID: {result.test_id}{Style.RESET_ALL}\")\n",
    "            print(f\"{Fore.BLUE}Actual Result: {result.actual_result}{Style.RESET_ALL}\")\n",
    "            print(f\"{Fore.BLUE}Status: {result.status.value}{Style.RESET_ALL}\")\n",
    "            print(f\"{Fore.BLUE}Execution Date: {result.execution_date.isoformat()}{Style.RESET_ALL}\")\n",
    "            print()"
   ]
  },
  {
   "cell_type": "code",
   "execution_count": 18,
   "metadata": {},
   "outputs": [],
   "source": [
    "def pretty_print_functions_table(code_db: CodeDatabase):\n",
    "    # Collect data for the table\n",
    "    table_data = []\n",
    "    for func in code_db.functions.values():\n",
    "        last_test_result = get_last_test_result(code_db, func.function_id)\n",
    "        dot_color = get_dot_color(last_test_result)\n",
    "        table_data.append([func.function_id, func.name, func.description, dot_color])\n",
    "\n",
    "    # Define table headers\n",
    "    headers = [f\"{Fore.CYAN}Function ID{Style.RESET_ALL}\", f\"{Fore.CYAN}Name{Style.RESET_ALL}\", f\"{Fore.CYAN}Description{Style.RESET_ALL}\", f\"{Fore.CYAN}Status{Style.RESET_ALL}\"]\n",
    "\n",
    "    # Print the table\n",
    "    print(tabulate(table_data, headers=headers, tablefmt=\"grid\"))"
   ]
  },
  {
   "cell_type": "code",
   "execution_count": 19,
   "metadata": {},
   "outputs": [],
   "source": [
    "def get_last_test_result(code_db: CodeDatabase, function_id: str) -> str:\n",
    "    for result in code_db.test_results[::-1]:\n",
    "        if result.function_id == function_id:\n",
    "            return result.status.value\n",
    "    return \"\""
   ]
  },
  {
   "cell_type": "code",
   "execution_count": 20,
   "metadata": {},
   "outputs": [],
   "source": [
    "def get_dot_color(status: str) -> str:\n",
    "    if status == TestStatusEnum.PASSED.value:\n",
    "        return f\"{Fore.GREEN}✔{Style.RESET_ALL}\"\n",
    "    elif status == TestStatusEnum.FAILED.value:\n",
    "        return f\"{Fore.RED}✘{Style.RESET_ALL}\"\n",
    "    else:\n",
    "        return \"\""
   ]
  },
  {
   "cell_type": "code",
   "execution_count": 42,
   "metadata": {},
   "outputs": [
    {
     "name": "stdout",
     "output_type": "stream",
     "text": [
      "<CodeDatabase: AutomatedDevDB v1.0, Created: 2025-01-26T15:52:43.035764, Last Modified: 2025-01-26T15:52:43.035764, Functions: 0>\n",
      "Generating Julia function for: implement a function 'longest_common_subsequence(str1::String, str2::String)' that finds \n",
      "    the longest common subsequence between two strings. A subsequence is a sequence that appears in the same \n",
      "    relative order but not necessarily contiguous. For example:\n",
      "    - LCS of 'ABCDGH' and 'AEDFHR' is 'ADH'\n",
      "    - LCS of 'AGGTAB' and 'GXTXAYB' is 'GTAB'\n",
      "    The function should return the longest common subsequence as a string.\n"
     ]
    }
   ],
   "source": [
    "code_db = CodeDatabase()\n",
    "print(code_db)\n",
    "\n",
    "    # Step 1: Generate a Julia function\n"
   ]
  },
  {
   "cell_type": "code",
   "execution_count": 53,
   "metadata": {},
   "outputs": [],
   "source": [
    "description = \"\"\"Create a function, symbolic_derivative, that computes the symbolic derivative of a given univariate polynomial function (e.g., f(x) = 3x^2 + 2x + 1). Return the derivative as a function that can be evaluated at any point.\n",
    "\n",
    "Challenge Areas:\n",
    "\n",
    "Manipulating polynomials symbolically.\n",
    "Translating mathematical rules into code.\n",
    "Returning functions dynamically. \"\"\"\n"
   ]
  },
  {
   "cell_type": "code",
   "execution_count": 54,
   "metadata": {},
   "outputs": [
    {
     "name": "stdout",
     "output_type": "stream",
     "text": [
      "Generating Julia function for: Create a function, symbolic_derivative, that computes the symbolic derivative of a given univariate polynomial function (e.g., f(x) = 3x^2 + 2x + 1). Return the derivative as a function that can be evaluated at any point.\n",
      "\n",
      "Challenge Areas:\n",
      "\n",
      "Manipulating polynomials symbolically.\n",
      "Translating mathematical rules into code.\n",
      "Returning functions dynamically. \n"
     ]
    }
   ],
   "source": [
    "print(f\"Generating Julia function for: {description}\")\n",
    "generated_code_message = generate_julia_function(description)\n",
    "generated_code = generated_code_message.parsed"
   ]
  },
  {
   "cell_type": "code",
   "execution_count": 56,
   "metadata": {},
   "outputs": [],
   "source": [
    "def format_code_block(code: str, language: str = \"\") -> str:\n",
    "    \"\"\"Format a code block with proper indentation and syntax highlighting.\"\"\"\n",
    "    return f\"{Fore.YELLOW}```{language}\\n{Style.RESET_ALL}{code}\\n{Fore.YELLOW}```{Style.RESET_ALL}\"\n",
    "\n"
   ]
  },
  {
   "cell_type": "code",
   "execution_count": 57,
   "metadata": {},
   "outputs": [
    {
     "data": {
      "text/plain": [
       "'\\x1b[33m```\\n\\x1b[0mcode=\\'function symbolic_derivative(poly::Vector{Int})\\\\n    derivative_coeffs = [(coeff * exp) for (exp, coeff) in enumerate(poly)][2:end]\\\\n    return (x) -> sum(c * x^(p-1) for (p, c) in enumerate(derivative_coeffs, start=2))\\\\nend\\' tests=\"# Define a polynomial f(x) = 3x^2 + 2x + 1\\\\npolynomial = [1, 2, 3] # 1 + 2x + 3x^2, coefficients from constant to highest\\\\n\\\\n# Get the derivative function\\\\nf_prime = symbolic_derivative(polynomial)\\\\n\\\\n# Test the derivative function at x = 2\\\\n@assert f_prime(2) == 14 # f\\'(x) = 6x + 2, so f\\'(2) = 6(2) + 2 = 14\" test_name=\\'test_symbolic_derivative_at_specific_point\\' test_description=\\'Test the symbolic derivative of the polynomial 3x^2 + 2x + 1 at x=2 to ensure it returns 14.\\' input_types=\\'Vector{Int}\\' return_types=\\'Function\\' short_description=\\'Calculates the derivative of a simple polynomial function symbolically and returns it as a function.\\' function_name=\\'symbolic_derivative\\'\\n\\x1b[33m```\\x1b[0m'"
      ]
     },
     "execution_count": 57,
     "metadata": {},
     "output_type": "execute_result"
    }
   ],
   "source": [
    "format_code_block(generated_code)"
   ]
  },
  {
   "cell_type": "code",
   "execution_count": 58,
   "metadata": {},
   "outputs": [],
   "source": [
    "generated_code = generated_code_message.parsed"
   ]
  },
  {
   "cell_type": "code",
   "execution_count": 59,
   "metadata": {},
   "outputs": [
    {
     "data": {
      "text/plain": [
       "JuliaCodePackage(code='function symbolic_derivative(poly::Vector{Int})\\n    derivative_coeffs = [(coeff * exp) for (exp, coeff) in enumerate(poly)][2:end]\\n    return (x) -> sum(c * x^(p-1) for (p, c) in enumerate(derivative_coeffs, start=2))\\nend', tests=\"# Define a polynomial f(x) = 3x^2 + 2x + 1\\npolynomial = [1, 2, 3] # 1 + 2x + 3x^2, coefficients from constant to highest\\n\\n# Get the derivative function\\nf_prime = symbolic_derivative(polynomial)\\n\\n# Test the derivative function at x = 2\\n@assert f_prime(2) == 14 # f'(x) = 6x + 2, so f'(2) = 6(2) + 2 = 14\", test_name='test_symbolic_derivative_at_specific_point', test_description='Test the symbolic derivative of the polynomial 3x^2 + 2x + 1 at x=2 to ensure it returns 14.', input_types='Vector{Int}', return_types='Function', short_description='Calculates the derivative of a simple polynomial function symbolically and returns it as a function.', function_name='symbolic_derivative')"
      ]
     },
     "execution_count": 59,
     "metadata": {},
     "output_type": "execute_result"
    }
   ],
   "source": [
    "generated_code"
   ]
  },
  {
   "cell_type": "code",
   "execution_count": 60,
   "metadata": {},
   "outputs": [
    {
     "name": "stdout",
     "output_type": "stream",
     "text": [
      "Added Function 374d36e4-9b87-401b-9d28-402cd317f6ae: symbolic_derivative\n"
     ]
    }
   ],
   "source": [
    " func = code_db.add_function(generated_code.function_name, generated_code.short_description, generated_code.code)"
   ]
  },
  {
   "cell_type": "code",
   "execution_count": 61,
   "metadata": {},
   "outputs": [
    {
     "name": "stdout",
     "output_type": "stream",
     "text": [
      "Added UnitTest 9072d5cc-0a62-48c9-977e-3b2e789bbc53 to Function 374d36e4-9b87-401b-9d28-402cd317f6ae\n",
      "Added UnitTest 9072d5cc-0a62-48c9-977e-3b2e789bbc53 to Function 374d36e4-9b87-401b-9d28-402cd317f6ae\n"
     ]
    },
    {
     "data": {
      "text/plain": [
       "<UnitTest 9072d5cc-0a62-48c9-977e-3b2e789bbc53: test_symbolic_derivative_at_specific_point for Function 374d36e4-9b87-401b-9d28-402cd317f6ae>"
      ]
     },
     "execution_count": 61,
     "metadata": {},
     "output_type": "execute_result"
    }
   ],
   "source": [
    " # Step 3: Add unit tests for the function\n",
    "code_db.add_unit_test(func.function_id, generated_code.test_name, generated_code.test_description, generated_code.tests)"
   ]
  },
  {
   "cell_type": "code",
   "execution_count": 62,
   "metadata": {},
   "outputs": [
    {
     "name": "stdout",
     "output_type": "stream",
     "text": [
      "```julia\n",
      "function symbolic_derivative(poly::Vector{Int})\n",
      "    derivative_coeffs = [(coeff * exp) for (exp, coeff) in enumerate(poly)][2:end]\n",
      "    return (x) -> sum(c * x^(p-1) for (p, c) in enumerate(derivative_coeffs, start=2))\n",
      "end\n",
      "```\n"
     ]
    }
   ],
   "source": [
    "formatted_code = format_code_block(generated_code.code, language=\"julia\")\n",
    "print(formatted_code)"
   ]
  },
  {
   "cell_type": "code",
   "execution_count": 63,
   "metadata": {},
   "outputs": [
    {
     "name": "stdout",
     "output_type": "stream",
     "text": [
      "\n",
      "Attempt 1 of 5\n",
      "Executing Tests...\n",
      "Executing all unit tests...\n",
      "Running Test 'test_process_data_various_inputs' for Function ID d031fddc-715c-49ec-903d-3c7c39319262\n",
      "Test Result: <TestResult fde242c9-8584-4ddf-82f4-b0e1a1ebf39c: Test aa0075ce-f65f-472e-a313-b08430a28773 for Function d031fddc-715c-49ec-903d-3c7c39319262 Status: Passed>\n",
      "Running Test 'test_symbolic_derivative_at_specific_point' for Function ID 374d36e4-9b87-401b-9d28-402cd317f6ae\n",
      "Test Failed: ERROR: LoadError: MethodError: no method matching enumerate(::Vector{Int64}; start::Int64)\n",
      "\n",
      "Closest candidates are:\n",
      "  enumerate(::Any) got unsupported keyword argument \"start\"\n",
      "   @ Base iterators.jl:200\n",
      "\n",
      "Stacktrace:\n",
      " [1] (::var\"#2#5\"{Vector{Int64}})(x::Int64)\n",
      "   @ Main C:\\Users\\GGPC\\AppData\\Local\\Temp\\tmpykd03mg1.jl:4\n",
      " [2] top-level scope\n",
      "   @ C:\\Users\\GGPC\\AppData\\Local\\Temp\\tmpykd03mg1.jl:14\n",
      "in expression starting at C:\\Users\\GGPC\\AppData\\Local\\Temp\\tmpykd03mg1.jl:14\n",
      "Test Result: <TestResult 543d42d4-7ff5-4876-ad19-9768e069b0cd: Test 9072d5cc-0a62-48c9-977e-3b2e789bbc53 for Function 374d36e4-9b87-401b-9d28-402cd317f6ae Status: Failed>\n",
      "Failed tests: 1\n",
      "Test 9072d5cc-0a62-48c9-977e-3b2e789bbc53 failed: ERROR: LoadError: MethodError: no method matching enumerate(::Vector{Int64}; start::Int64)\n",
      "\n",
      "Closest candidates are:\n",
      "  enumerate(::Any) got unsupported keyword argument \"start\"\n",
      "   @ Base iterators.jl:200\n",
      "\n",
      "Stacktrace:\n",
      " [1] (::var\"#2#5\"{Vector{Int64}})(x::Int64)\n",
      "   @ Main C:\\Users\\GGPC\\AppData\\Local\\Temp\\tmpykd03mg1.jl:4\n",
      " [2] top-level scope\n",
      "   @ C:\\Users\\GGPC\\AppData\\Local\\Temp\\tmpykd03mg1.jl:14\n",
      "in expression starting at C:\\Users\\GGPC\\AppData\\Local\\Temp\\tmpykd03mg1.jl:14\n",
      "\n",
      "Requesting fix: Fix the function. Current tests failed with: ```\n",
      "['ERROR: LoadError: MethodError: no method matching enumerate(::Vector{Int64}; start::Int64)\\n\\nClosest candidates are:\\n  enumerate(::Any) got unsupported keyword argument \"start\"\\n   @ Base iterators.jl:200\\n\\nStacktrace:\\n [1] (::var\"#2#5\"{Vector{Int64}})(x::Int64)\\n   @ Main C:\\\\Users\\\\GGPC\\\\AppData\\\\Local\\\\Temp\\\\tmpykd03mg1.jl:4\\n [2] top-level scope\\n   @ C:\\\\Users\\\\GGPC\\\\AppData\\\\Local\\\\Temp\\\\tmpykd03mg1.jl:14\\nin expression starting at C:\\\\Users\\\\GGPC\\\\AppData\\\\Local\\\\Temp\\\\tmpykd03mg1.jl:14']\n",
      "```\n"
     ]
    },
    {
     "ename": "TypeError",
     "evalue": "modify_julia_function() missing 1 required positional argument: 'function_code'",
     "output_type": "error",
     "traceback": [
      "\u001b[1;31m---------------------------------------------------------------------------\u001b[0m",
      "\u001b[1;31mTypeError\u001b[0m                                 Traceback (most recent call last)",
      "Cell \u001b[1;32mIn[63], line 24\u001b[0m\n\u001b[0;32m     22\u001b[0m fix_description \u001b[38;5;241m=\u001b[39m \u001b[38;5;124mf\u001b[39m\u001b[38;5;124m\"\u001b[39m\u001b[38;5;124mFix the function. Current tests failed with: \u001b[39m\u001b[38;5;132;01m{\u001b[39;00mformat_code_block([r\u001b[38;5;241m.\u001b[39mactual_result\u001b[38;5;250m \u001b[39m\u001b[38;5;28;01mfor\u001b[39;00m\u001b[38;5;250m \u001b[39mr\u001b[38;5;250m \u001b[39m\u001b[38;5;129;01min\u001b[39;00m\u001b[38;5;250m \u001b[39mfailed_tests])\u001b[38;5;132;01m}\u001b[39;00m\u001b[38;5;124m\"\u001b[39m\n\u001b[0;32m     23\u001b[0m \u001b[38;5;28mprint\u001b[39m(\u001b[38;5;124mf\u001b[39m\u001b[38;5;124m\"\u001b[39m\u001b[38;5;130;01m\\n\u001b[39;00m\u001b[38;5;124mRequesting fix: \u001b[39m\u001b[38;5;132;01m{\u001b[39;00mfix_description\u001b[38;5;132;01m}\u001b[39;00m\u001b[38;5;124m\"\u001b[39m)\n\u001b[1;32m---> 24\u001b[0m fixed_code_message \u001b[38;5;241m=\u001b[39m \u001b[43mmodify_julia_function\u001b[49m\u001b[43m(\u001b[49m\u001b[43mfix_description\u001b[49m\u001b[43m)\u001b[49m\n\u001b[0;32m     25\u001b[0m fixed_code \u001b[38;5;241m=\u001b[39m fixed_code_message\u001b[38;5;241m.\u001b[39mparsed\u001b[38;5;241m.\u001b[39mcode\n\u001b[0;32m     27\u001b[0m \u001b[38;5;66;03m# Update function with fix\u001b[39;00m\n",
      "File \u001b[1;32m~\\AppData\\Roaming\\Python\\Python311\\site-packages\\ell\\lmp\\_track.py:64\u001b[0m, in \u001b[0;36m_track.<locals>.tracked_func\u001b[1;34m(_get_invocation_id, *fn_args, **fn_kwargs)\u001b[0m\n\u001b[0;32m     62\u001b[0m state_cache_key : \u001b[38;5;28mstr\u001b[39m \u001b[38;5;241m=\u001b[39m \u001b[38;5;28;01mNone\u001b[39;00m\n\u001b[0;32m     63\u001b[0m \u001b[38;5;28;01mif\u001b[39;00m \u001b[38;5;129;01mnot\u001b[39;00m config\u001b[38;5;241m.\u001b[39mstore:\n\u001b[1;32m---> 64\u001b[0m     \u001b[38;5;28;01mreturn\u001b[39;00m \u001b[43mfunc_to_track\u001b[49m\u001b[43m(\u001b[49m\u001b[38;5;241;43m*\u001b[39;49m\u001b[43mfn_args\u001b[49m\u001b[43m,\u001b[49m\u001b[43m \u001b[49m\u001b[38;5;241;43m*\u001b[39;49m\u001b[38;5;241;43m*\u001b[39;49m\u001b[43mfn_kwargs\u001b[49m\u001b[43m,\u001b[49m\u001b[43m \u001b[49m\u001b[43m_invocation_origin\u001b[49m\u001b[38;5;241;43m=\u001b[39;49m\u001b[43minvocation_id\u001b[49m\u001b[43m)\u001b[49m[\u001b[38;5;241m0\u001b[39m]\n\u001b[0;32m     66\u001b[0m parent_invocation_id \u001b[38;5;241m=\u001b[39m get_current_invocation()\n\u001b[0;32m     67\u001b[0m \u001b[38;5;28;01mtry\u001b[39;00m:\n",
      "File \u001b[1;32m~\\AppData\\Roaming\\Python\\Python311\\site-packages\\ell\\lmp\\complex.py:39\u001b[0m, in \u001b[0;36mcomplex.<locals>.parameterized_lm_decorator.<locals>.model_call\u001b[1;34m(_invocation_origin, client, api_params, lm_params, *prompt_args, **prompt_kwargs)\u001b[0m\n\u001b[0;32m     36\u001b[0m     \u001b[38;5;28;01mraise\u001b[39;00m \u001b[38;5;167;01mDeprecationWarning\u001b[39;00m(\u001b[38;5;124m\"\u001b[39m\u001b[38;5;124mlm_params is deprecated. Use api_params instead.\u001b[39m\u001b[38;5;124m\"\u001b[39m)\n\u001b[0;32m     38\u001b[0m \u001b[38;5;66;03m# promt -> str\u001b[39;00m\n\u001b[1;32m---> 39\u001b[0m res \u001b[38;5;241m=\u001b[39m \u001b[43mprompt\u001b[49m\u001b[43m(\u001b[49m\u001b[38;5;241;43m*\u001b[39;49m\u001b[43mprompt_args\u001b[49m\u001b[43m,\u001b[49m\u001b[43m \u001b[49m\u001b[38;5;241;43m*\u001b[39;49m\u001b[38;5;241;43m*\u001b[39;49m\u001b[43mprompt_kwargs\u001b[49m\u001b[43m)\u001b[49m\n\u001b[0;32m     40\u001b[0m \u001b[38;5;66;03m# Convert prompt into ell messages\u001b[39;00m\n\u001b[0;32m     41\u001b[0m messages \u001b[38;5;241m=\u001b[39m _get_messages(res, prompt) \n",
      "\u001b[1;31mTypeError\u001b[0m: modify_julia_function() missing 1 required positional argument: 'function_code'"
     ]
    }
   ],
   "source": [
    "max_attempts = 5\n",
    "attempt = 0\n",
    "while attempt < max_attempts:\n",
    "    print(f\"\\nAttempt {attempt + 1} of {max_attempts}\")\n",
    "    \n",
    "    # Execute tests\n",
    "    print(\"Executing Tests...\")\n",
    "    test_results = code_db.execute_tests()\n",
    "    \n",
    "    # Check if any tests failed\n",
    "    failed_tests = [r for r in test_results if r.status == TestStatusEnum.FAILED]\n",
    "    \n",
    "    if not failed_tests:\n",
    "        print(\"All tests passed!\")\n",
    "        break\n",
    "        \n",
    "    print(f\"Failed tests: {len(failed_tests)}\")\n",
    "    for result in failed_tests:\n",
    "        print(f\"Test {result.test_id} failed: {result.actual_result}\")\n",
    "    \n",
    "    # Ask AI to fix the code\n",
    "    fix_description = f\"Fix the function. Current tests failed with: {format_code_block([r.actual_result for r in failed_tests])}\"\n",
    "    print(f\"\\nRequesting fix: {fix_description}\")\n",
    "    fixed_code_message = modify_julia_function(fix_description)\n",
    "    fixed_code = fixed_code_message.parsed.code\n",
    "    \n",
    "    # Update function with fix\n",
    "    code_db.modify_function(func.function_id, \"AI\", f\"Fix attempt {attempt + 1}\", fixed_code)\n",
    "    \n",
    "    attempt += 1\n",
    "\n",
    "if attempt == max_attempts:\n",
    "    print(\"\\nMaximum fix attempts reached without success\")\n",
    "else:\n",
    "    print(f\"\\nFixed in {attempt + 1} attempts\")"
   ]
  },
  {
   "cell_type": "code",
   "execution_count": 64,
   "metadata": {},
   "outputs": [
    {
     "data": {
      "text/plain": [
       "'Fix the function. Current tests failed with: \\x1b[33m```\\n\\x1b[0m[\\'ERROR: LoadError: MethodError: no method matching enumerate(::Vector{Int64}; start::Int64)\\\\n\\\\nClosest candidates are:\\\\n  enumerate(::Any) got unsupported keyword argument \"start\"\\\\n   @ Base iterators.jl:200\\\\n\\\\nStacktrace:\\\\n [1] (::var\"#2#5\"{Vector{Int64}})(x::Int64)\\\\n   @ Main C:\\\\\\\\Users\\\\\\\\GGPC\\\\\\\\AppData\\\\\\\\Local\\\\\\\\Temp\\\\\\\\tmpykd03mg1.jl:4\\\\n [2] top-level scope\\\\n   @ C:\\\\\\\\Users\\\\\\\\GGPC\\\\\\\\AppData\\\\\\\\Local\\\\\\\\Temp\\\\\\\\tmpykd03mg1.jl:14\\\\nin expression starting at C:\\\\\\\\Users\\\\\\\\GGPC\\\\\\\\AppData\\\\\\\\Local\\\\\\\\Temp\\\\\\\\tmpykd03mg1.jl:14\\']\\n\\x1b[33m```\\x1b[0m'"
      ]
     },
     "execution_count": 64,
     "metadata": {},
     "output_type": "execute_result"
    }
   ],
   "source": [
    "fix_description"
   ]
  },
  {
   "cell_type": "code",
   "execution_count": null,
   "metadata": {},
   "outputs": [],
   "source": []
  }
 ],
 "metadata": {
  "kernelspec": {
   "display_name": "Python 3",
   "language": "python",
   "name": "python3"
  },
  "language_info": {
   "codemirror_mode": {
    "name": "ipython",
    "version": 3
   },
   "file_extension": ".py",
   "mimetype": "text/x-python",
   "name": "python",
   "nbconvert_exporter": "python",
   "pygments_lexer": "ipython3",
   "version": "3.11.0"
  }
 },
 "nbformat": 4,
 "nbformat_minor": 2
}
